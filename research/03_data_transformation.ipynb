{
 "cells": [
  {
   "cell_type": "code",
   "execution_count": 1,
   "metadata": {},
   "outputs": [
    {
     "data": {
      "text/plain": [
       "'c:\\\\Users\\\\HP\\\\Desktop\\\\ML\\\\Customer_Churn_Predictor'"
      ]
     },
     "execution_count": 1,
     "metadata": {},
     "output_type": "execute_result"
    }
   ],
   "source": [
    "import os\n",
    "os.chdir(\"../\")\n",
    "%pwd"
   ]
  },
  {
   "cell_type": "code",
   "execution_count": 2,
   "metadata": {},
   "outputs": [],
   "source": [
    "from dataclasses import dataclass\n",
    "from pathlib import Path\n",
    "\n",
    "\n",
    "@dataclass(frozen=True)\n",
    "class DataTransformationConfig:\n",
    "    root_dir: Path\n",
    "    data_path: Path"
   ]
  },
  {
   "cell_type": "code",
   "execution_count": 3,
   "metadata": {},
   "outputs": [],
   "source": [
    "from ChurnPredictor.constants import *\n",
    "from ChurnPredictor.utils.common import read_yaml, create_directories"
   ]
  },
  {
   "cell_type": "code",
   "execution_count": 4,
   "metadata": {},
   "outputs": [],
   "source": [
    "class ConfigurationManager:\n",
    "    def __init__(\n",
    "        self,\n",
    "        config_filepath = CONFIG_FILE_PATH,\n",
    "        params_filepath = PARAMS_FILE_PATH,\n",
    "        schema_filepath = SCHEMA_FILE_PATH):\n",
    "\n",
    "        self.config = read_yaml(config_filepath)\n",
    "        self.params = read_yaml(params_filepath)\n",
    "        self.schema = read_yaml(schema_filepath)\n",
    "\n",
    "        create_directories([self.config.artifacts_root])\n",
    "\n",
    "\n",
    "    \n",
    "    def get_data_transformation_config(self) -> DataTransformationConfig:\n",
    "        config = self.config.data_transformation\n",
    "\n",
    "        create_directories([config.root_dir])\n",
    "\n",
    "        data_transformation_config = DataTransformationConfig(\n",
    "            root_dir=config.root_dir,\n",
    "            data_path=config.data_path,\n",
    "        )\n",
    "\n",
    "        return data_transformation_config"
   ]
  },
  {
   "cell_type": "code",
   "execution_count": 5,
   "metadata": {},
   "outputs": [],
   "source": [
    "import os\n",
    "import pandas as pd\n",
    "import numpy as np\n",
    "from mlProject import logger\n",
    "from imblearn.over_sampling import SMOTE\n",
    "from sklearn.model_selection import train_test_split\n",
    "from sklearn.pipeline import Pipeline\n",
    "from sklearn.preprocessing import LabelEncoder\n",
    "from sklearn.preprocessing import StandardScaler"
   ]
  },
  {
   "cell_type": "code",
   "execution_count": 6,
   "metadata": {},
   "outputs": [],
   "source": [
    "class DataTransformation:\n",
    "    def __init__(self, config: DataTransformationConfig):\n",
    "        self.config = config\n",
    "\n",
    "    def data_manipulation(self, df: pd.DataFrame) -> pd.DataFrame:\n",
    "        df = df.drop(['customerID'], axis = 1)\n",
    "        df['TotalCharges'] = pd.to_numeric(df.TotalCharges, errors='coerce')\n",
    "\n",
    "        df.drop(labels=df[df['tenure'] == 0].index, axis=0, inplace=True)\n",
    "        df[\"SeniorCitizen\"]= df[\"SeniorCitizen\"].map({0: \"No\", 1: \"Yes\"})\n",
    "\n",
    "        return df\n",
    "    \n",
    "    def object_to_int(self, df: pd.DataFrame) -> pd.DataFrame:\n",
    "        if df.dtype=='object':\n",
    "            df = LabelEncoder().fit_transform(df)\n",
    "        \n",
    "        return df\n",
    "\n",
    "    def data_transformation(self):\n",
    "        data = pd.read_csv(self.config.data_path)\n",
    "\n",
    "        data = self.data_manipulation(data)\n",
    "        logger.info(\"Data Manipulation Done\")\n",
    "\n",
    "        data = data.apply(lambda x: self.object_to_int(x))\n",
    "        logger.info(\"Converted from object to int type\")\n",
    "\n",
    "        X = data.drop(columns = ['Churn'])\n",
    "        y = data['Churn'].values\n",
    "\n",
    "        X_train, X_test, y_train, y_test = train_test_split(X,y,test_size = 0.30, random_state = 40, stratify=y)\n",
    "\n",
    "        smote = SMOTE(random_state=42)\n",
    "        X_train_resampled, y_train_resampled = smote.fit_resample(X_train, y_train)\n",
    "        logger.info(\"Resampling Done\")\n",
    "\n",
    "        num_cols = [\"tenure\", 'MonthlyCharges', 'TotalCharges']\n",
    "        df_std = pd.DataFrame(StandardScaler().fit_transform(data[num_cols].astype('float64')),\n",
    "                       columns=num_cols)\n",
    "        \n",
    "        scaler= StandardScaler()\n",
    "\n",
    "        X_train_resampled[num_cols] = scaler.fit_transform(X_train_resampled[num_cols])\n",
    "        X_test[num_cols] = scaler.transform(X_test[num_cols])\n",
    "        logger.info(\"Scaling completed\")\n",
    "\n",
    "        y_train_new = pd.DataFrame(y_train_resampled, columns=['Churn'])\n",
    "        train  = pd.concat([X_train_resampled, y_train_new], axis=1)\n",
    "\n",
    "        X_test['Churn'] = y_test\n",
    "        test = X_test\n",
    "\n",
    "        train.to_csv(os.path.join(self.config.root_dir, \"train.csv\"),index = False)\n",
    "        test.to_csv(os.path.join(self.config.root_dir, \"test.csv\"),index = False)\n",
    "\n",
    "        logger.info(\"Splited data into training and test sets\")\n",
    "        logger.info(train.shape)\n",
    "        logger.info(test.shape)\n",
    "\n",
    "        print(train.shape)\n",
    "        print(test.shape)\n"
   ]
  },
  {
   "cell_type": "code",
   "execution_count": 7,
   "metadata": {},
   "outputs": [
    {
     "name": "stdout",
     "output_type": "stream",
     "text": [
      "[2024-05-28 10:14:42,775: INFO: common: yaml file: config\\config.yaml loaded successfully]\n",
      "[2024-05-28 10:14:42,780: INFO: common: yaml file: params.yaml loaded successfully]\n",
      "[2024-05-28 10:14:42,783: INFO: common: yaml file: schema.yaml loaded successfully]\n",
      "[2024-05-28 10:14:42,784: INFO: common: created directory at: artifacts]\n",
      "[2024-05-28 10:14:42,785: INFO: common: created directory at: artifacts/data_transformation]\n",
      "[2024-05-28 10:14:42,818: INFO: 2676230150: Data Manipulation Done]\n",
      "[2024-05-28 10:14:42,838: INFO: 2676230150: Converted from object to int type]\n",
      "[2024-05-28 10:14:43,208: INFO: 2676230150: Resampling Done]\n",
      "[2024-05-28 10:14:43,217: INFO: 2676230150: Scaling completed]\n",
      "[2024-05-28 10:14:43,292: INFO: 2676230150: Splited data into training and test sets]\n",
      "[2024-05-28 10:14:43,293: INFO: 2676230150: (7228, 20)]\n",
      "[2024-05-28 10:14:43,294: INFO: 2676230150: (2110, 20)]\n",
      "(7228, 20)\n",
      "(2110, 20)\n"
     ]
    }
   ],
   "source": [
    "try:\n",
    "    config = ConfigurationManager()\n",
    "    data_transformation_config = config.get_data_transformation_config()\n",
    "    data_transform = DataTransformation(config=data_transformation_config)\n",
    "    data_transform.data_transformation()\n",
    "except Exception as e:\n",
    "    raise e"
   ]
  }
 ],
 "metadata": {
  "kernelspec": {
   "display_name": "Python 3",
   "language": "python",
   "name": "python3"
  },
  "language_info": {
   "codemirror_mode": {
    "name": "ipython",
    "version": 3
   },
   "file_extension": ".py",
   "mimetype": "text/x-python",
   "name": "python",
   "nbconvert_exporter": "python",
   "pygments_lexer": "ipython3",
   "version": "3.10.11"
  }
 },
 "nbformat": 4,
 "nbformat_minor": 2
}
